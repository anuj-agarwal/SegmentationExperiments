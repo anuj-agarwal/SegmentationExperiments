{
 "cells": [
  {
   "cell_type": "markdown",
   "metadata": {},
   "source": [
    "# Mask2Coco"
   ]
  },
  {
   "cell_type": "markdown",
   "metadata": {},
   "source": [
    "In this notebook, I am experimenting with converting a Mask Image into the Coco formatted json file for use with the Mask RCNN framework for Image Segmentation. As such I am going to use the [Lungs in CT dataset](https://www.kaggle.com/kmader/finding-lungs-in-ct-data) downloaded from Kaggle.\n",
    "\n",
    "I will be using skimage and imantics library for data manipulation."
   ]
  },
  {
   "cell_type": "markdown",
   "metadata": {},
   "source": [
    "The LungCT dataset is noisy, so I have modified most of the masks to be consistent.\n",
    "\n",
    "If you get errors while running this notebook, you have to go back and modify the mask images. Alternatively, you can modify the code below to suit your particular needs."
   ]
  },
  {
   "cell_type": "code",
   "execution_count": 1,
   "metadata": {
    "ExecuteTime": {
     "end_time": "2020-09-12T07:07:42.844800Z",
     "start_time": "2020-09-12T07:07:42.438877Z"
    }
   },
   "outputs": [],
   "source": [
    "from pathlib import Path\n",
    "import glob\n",
    "import os\n",
    "\n",
    "from skimage.io import imread\n",
    "import matplotlib.pyplot as plt\n"
   ]
  },
  {
   "cell_type": "code",
   "execution_count": 2,
   "metadata": {
    "ExecuteTime": {
     "end_time": "2020-09-12T07:07:51.707278Z",
     "start_time": "2020-09-12T07:07:45.842349Z"
    }
   },
   "outputs": [
    {
     "name": "stdout",
     "output_type": "stream",
     "text": [
      "D:\\datasets\\CT_images_segmented_lungs\\2d_images\\ID_0000_Z_0142.tif\n"
     ]
    }
   ],
   "source": [
    "# Set base parameters \n",
    "BASE_IMG_PATH = Path('D:/datasets/CT_images_segmented_lungs/')\n",
    "\n",
    "# Read .tif files\n",
    "all_image_files = glob.glob(os.path.join(BASE_IMG_PATH,'2d_images','*.tif'))\n",
    "print(all_image_files[0])\n",
    "\n",
    "# Iterate over each and save in jpg format for use with Mask RCNN model\n",
    "for i in all_image_files:\n",
    "    img = imread(i)\n",
    "    plt.imsave(i[:-19]+'_jpg'+i[-19:-4]+'.jpg', img, cmap = plt.cm.gray)\n"
   ]
  },
  {
   "cell_type": "code",
   "execution_count": 4,
   "metadata": {
    "ExecuteTime": {
     "end_time": "2020-09-12T07:08:06.767413Z",
     "start_time": "2020-09-12T07:08:06.755444Z"
    }
   },
   "outputs": [
    {
     "name": "stdout",
     "output_type": "stream",
     "text": [
      "No. of images: 267\n",
      "D:\\datasets\\CT_images_segmented_lungs\\2d_images_jpg\\ID_0000_Z_0142.jpg\n",
      "D:\\datasets\\CT_images_segmented_lungs\\2d_masks\\ID_0000_Z_0142.tif\n"
     ]
    }
   ],
   "source": [
    "# Read all Image jpg files and the corresponding Mask tif files\n",
    "\n",
    "all_image_files = glob.glob(os.path.join(BASE_IMG_PATH,'2d_images_jpg','*.jpg'))\n",
    "all_mask_files  = glob.glob(os.path.join(BASE_IMG_PATH,'2d_masks','*.tif'))\n",
    "\n",
    "print('No. of images:', len(all_image_files))\n",
    "print(all_image_files[0])\n",
    "print(all_mask_files[0])\n"
   ]
  },
  {
   "cell_type": "markdown",
   "metadata": {},
   "source": [
    "To use the imantics library, we can simply <b>pip install imantics</b>\n",
    "\n",
    "For more API related information, please check out their [official docs](https://imantics.readthedocs.io/en/latest/index.html)."
   ]
  },
  {
   "cell_type": "markdown",
   "metadata": {},
   "source": [
    "Test the library on a single input image/mask and understand how to utilize it.\n",
    "\n",
    "When we calculate the polygons, the library looks for intensity changes (binary masks) and returns the pixels corresponding to the change.\n",
    "\n",
    "There are some masks in Lung CT dataset, which needed to be edited beforehand to maintain the consistency across each masks, such that each mask has a left_lung and a right_lung, and some might have multiple inner polygons which I am referring to as unidentified."
   ]
  },
  {
   "cell_type": "code",
   "execution_count": 5,
   "metadata": {
    "ExecuteTime": {
     "end_time": "2020-09-12T07:08:10.894257Z",
     "start_time": "2020-09-12T07:08:10.860313Z"
    }
   },
   "outputs": [
    {
     "name": "stdout",
     "output_type": "stream",
     "text": [
      "D:\\datasets\\CT_images_segmented_lungs\\2d_images_jpg\\ID_0007_Z_0211.jpg\n",
      "3\n"
     ]
    }
   ],
   "source": [
    "# Import the useful modules from imantics library\n",
    "from imantics import Polygons, Mask, Image, Category\n",
    "\n",
    "# Input any image/mask\n",
    "IMG_INDEX = 7\n",
    "\n",
    "img_path, mask_path = all_image_files[IMG_INDEX], all_mask_files[IMG_INDEX]\n",
    "print(img_path)\n",
    "\n",
    "# Read the image and the corresponding mask\n",
    "image = Image.from_path(img_path)\n",
    "mask = imread(mask_path)\n",
    "\n",
    "# For the edited masks (edited using Paint 3D), \n",
    "# the shape increases to 3-dimension (no changes to the mask itself just 3rd dimension is added)\n",
    "# Mask from imantics needs the mask to be in 2-dimension\n",
    "\n",
    "if len(mask.shape) > 2:    mask_array = Mask(mask[:,:,0])\n",
    "else:                      mask_array = Mask(mask)\n",
    "\n",
    "# Calculate the polygons in the mask, this returns all the polygons in the mask in both points and segmentation format.\n",
    "# For lungCT masks, this will return the left lung, right lung and the missing inner parts.\n",
    "polygons = mask_array.polygons()\n",
    "\n",
    "print(len(polygons.points))"
   ]
  },
  {
   "cell_type": "markdown",
   "metadata": {},
   "source": [
    "Here we see for image_id 7 we have three polygons corresponding to each class we have defined."
   ]
  },
  {
   "cell_type": "markdown",
   "metadata": {},
   "source": [
    "To validate the polygons are infact the corresponding classes, we can make use of the skimage library as seen below"
   ]
  },
  {
   "cell_type": "code",
   "execution_count": 6,
   "metadata": {
    "ExecuteTime": {
     "end_time": "2020-09-12T07:08:13.104111Z",
     "start_time": "2020-09-12T07:08:12.719119Z"
    }
   },
   "outputs": [
    {
     "data": {
      "text/plain": [
       "Text(0.5, 1.0, 'Mask')"
      ]
     },
     "execution_count": 6,
     "metadata": {},
     "output_type": "execute_result"
    },
    {
     "data": {
      "image/png": "[encoded data removed]",
      "text/plain": [
       "<Figure size 432x288 with 3 Axes>"
      ]
     },
     "metadata": {
      "needs_background": "light"
     },
     "output_type": "display_data"
    }
   ],
   "source": [
    "# Skimage.draw's polygon calculate all the pixels that lie inside a given polygon\n",
    "from skimage.draw import polygon\n",
    "\n",
    "P_INDEX = 0\n",
    "\n",
    "fig, (ax1 ,ax2, ax3) = plt.subplots(1, 3)\n",
    "img = imread(all_image_files[IMG_INDEX])\n",
    "ax1.imshow(img, cmap='gray')\n",
    "ax1.set_title('Original')\n",
    "\n",
    "# For a calculated polygon, we can simply index into the polygons array and fill the polygon region\n",
    "c = polygons.segmentation[P_INDEX][::2]\n",
    "r = polygons.segmentation[P_INDEX][1::2]\n",
    "rr, cc = polygon(r, c)\n",
    "img[rr, cc] = 1\n",
    "\n",
    "#Show the filled polygon and corresponding mask\n",
    "ax2.imshow(img, cmap='gray')\n",
    "ax2.set_title('Overlayed')\n",
    "ax3.imshow(mask)\n",
    "ax3.set_title('Mask')"
   ]
  },
  {
   "cell_type": "markdown",
   "metadata": {},
   "source": [
    "We can see that the P_INDEX=0 for IMG_INDEX=7 is the right_lung"
   ]
  },
  {
   "cell_type": "markdown",
   "metadata": {},
   "source": [
    "One thing of notice is that, there is no order on how the polygons are calculated. So we cannot directly go ahead and label the polygons to the classes.\n",
    "\n",
    "Below I have created a basic intuition based logic to handle this. Note that this will only apply to the current dataset.\n",
    "\n",
    "Finally I am applying this to all the data in my dataset (then I will separate them into train, validation and test sets)."
   ]
  },
  {
   "cell_type": "code",
   "execution_count": 7,
   "metadata": {
    "ExecuteTime": {
     "end_time": "2020-09-12T07:08:22.706054Z",
     "start_time": "2020-09-12T07:08:15.792941Z"
    }
   },
   "outputs": [
    {
     "name": "stdout",
     "output_type": "stream",
     "text": [
      "D:\\datasets\\CT_images_segmented_lungs\\2d_masks\\ID_0000_Z_0142.tif\n",
      "D:\\datasets\\CT_images_segmented_lungs\\2d_masks\\ID_0001_Z_0146.tif\n",
      "D:\\datasets\\CT_images_segmented_lungs\\2d_masks\\ID_0002_Z_0162.tif\n",
      "D:\\datasets\\CT_images_segmented_lungs\\2d_masks\\ID_0003_Z_0132.tif\n",
      "D:\\datasets\\CT_images_segmented_lungs\\2d_masks\\ID_0004_Z_0066.tif\n",
      "D:\\datasets\\CT_images_segmented_lungs\\2d_masks\\ID_0005_Z_0066.tif\n",
      "D:\\datasets\\CT_images_segmented_lungs\\2d_masks\\ID_0006_Z_0206.tif\n",
      "D:\\datasets\\CT_images_segmented_lungs\\2d_masks\\ID_0007_Z_0211.tif\n",
      "D:\\datasets\\CT_images_segmented_lungs\\2d_masks\\ID_0008_Z_0065.tif\n",
      "D:\\datasets\\CT_images_segmented_lungs\\2d_masks\\ID_0009_Z_0114.tif\n",
      "D:\\datasets\\CT_images_segmented_lungs\\2d_masks\\ID_0010_Z_0259.tif\n",
      "D:\\datasets\\CT_images_segmented_lungs\\2d_masks\\ID_0011_Z_0156.tif\n",
      "D:\\datasets\\CT_images_segmented_lungs\\2d_masks\\ID_0012_Z_0167.tif\n",
      "D:\\datasets\\CT_images_segmented_lungs\\2d_masks\\ID_0013_Z_0047.tif\n",
      "D:\\datasets\\CT_images_segmented_lungs\\2d_masks\\ID_0014_Z_0116.tif\n",
      "D:\\datasets\\CT_images_segmented_lungs\\2d_masks\\ID_0015_Z_0136.tif\n",
      "D:\\datasets\\CT_images_segmented_lungs\\2d_masks\\ID_0016_Z_0208.tif\n",
      "D:\\datasets\\CT_images_segmented_lungs\\2d_masks\\ID_0017_Z_0061.tif\n",
      "D:\\datasets\\CT_images_segmented_lungs\\2d_masks\\ID_0018_Z_0069.tif\n",
      "D:\\datasets\\CT_images_segmented_lungs\\2d_masks\\ID_0019_Z_0088.tif\n",
      "D:\\datasets\\CT_images_segmented_lungs\\2d_masks\\ID_0020_Z_0070.tif\n",
      "D:\\datasets\\CT_images_segmented_lungs\\2d_masks\\ID_0021_Z_0066.tif\n",
      "D:\\datasets\\CT_images_segmented_lungs\\2d_masks\\ID_0022_Z_0131.tif\n",
      "D:\\datasets\\CT_images_segmented_lungs\\2d_masks\\ID_0023_Z_0241.tif\n",
      "D:\\datasets\\CT_images_segmented_lungs\\2d_masks\\ID_0024_Z_0086.tif\n",
      "D:\\datasets\\CT_images_segmented_lungs\\2d_masks\\ID_0025_Z_0112.tif\n",
      "D:\\datasets\\CT_images_segmented_lungs\\2d_masks\\ID_0026_Z_0140.tif\n",
      "D:\\datasets\\CT_images_segmented_lungs\\2d_masks\\ID_0027_Z_0125.tif\n",
      "D:\\datasets\\CT_images_segmented_lungs\\2d_masks\\ID_0028_Z_0125.tif\n",
      "D:\\datasets\\CT_images_segmented_lungs\\2d_masks\\ID_0029_Z_0059.tif\n",
      "D:\\datasets\\CT_images_segmented_lungs\\2d_masks\\ID_0030_Z_0302.tif\n",
      "D:\\datasets\\CT_images_segmented_lungs\\2d_masks\\ID_0031_Z_0232.tif\n",
      "D:\\datasets\\CT_images_segmented_lungs\\2d_masks\\ID_0032_Z_0055.tif\n",
      "D:\\datasets\\CT_images_segmented_lungs\\2d_masks\\ID_0033_Z_0278.tif\n",
      "D:\\datasets\\CT_images_segmented_lungs\\2d_masks\\ID_0034_Z_0066.tif\n",
      "D:\\datasets\\CT_images_segmented_lungs\\2d_masks\\ID_0035_Z_0224.tif\n",
      "D:\\datasets\\CT_images_segmented_lungs\\2d_masks\\ID_0036_Z_0060.tif\n",
      "D:\\datasets\\CT_images_segmented_lungs\\2d_masks\\ID_0037_Z_0150.tif\n",
      "D:\\datasets\\CT_images_segmented_lungs\\2d_masks\\ID_0038_Z_0148.tif\n",
      "D:\\datasets\\CT_images_segmented_lungs\\2d_masks\\ID_0039_Z_0112.tif\n",
      "D:\\datasets\\CT_images_segmented_lungs\\2d_masks\\ID_0040_Z_0066.tif\n",
      "D:\\datasets\\CT_images_segmented_lungs\\2d_masks\\ID_0041_Z_0336.tif\n",
      "D:\\datasets\\CT_images_segmented_lungs\\2d_masks\\ID_0042_Z_0366.tif\n",
      "D:\\datasets\\CT_images_segmented_lungs\\2d_masks\\ID_0043_Z_0097.tif\n",
      "D:\\datasets\\CT_images_segmented_lungs\\2d_masks\\ID_0044_Z_0116.tif\n",
      "D:\\datasets\\CT_images_segmented_lungs\\2d_masks\\ID_0045_Z_0131.tif\n",
      "D:\\datasets\\CT_images_segmented_lungs\\2d_masks\\ID_0046_Z_0110.tif\n",
      "D:\\datasets\\CT_images_segmented_lungs\\2d_masks\\ID_0047_Z_0272.tif\n",
      "D:\\datasets\\CT_images_segmented_lungs\\2d_masks\\ID_0048_Z_0294.tif\n",
      "D:\\datasets\\CT_images_segmented_lungs\\2d_masks\\ID_0049_Z_0105.tif\n",
      "D:\\datasets\\CT_images_segmented_lungs\\2d_masks\\ID_0050_Z_0085.tif\n",
      "D:\\datasets\\CT_images_segmented_lungs\\2d_masks\\ID_0051_Z_0130.tif\n",
      "D:\\datasets\\CT_images_segmented_lungs\\2d_masks\\ID_0052_Z_0063.tif\n",
      "D:\\datasets\\CT_images_segmented_lungs\\2d_masks\\ID_0053_Z_0127.tif\n",
      "D:\\datasets\\CT_images_segmented_lungs\\2d_masks\\ID_0054_Z_0135.tif\n",
      "D:\\datasets\\CT_images_segmented_lungs\\2d_masks\\ID_0055_Z_0122.tif\n",
      "D:\\datasets\\CT_images_segmented_lungs\\2d_masks\\ID_0056_Z_0163.tif\n",
      "D:\\datasets\\CT_images_segmented_lungs\\2d_masks\\ID_0057_Z_0070.tif\n",
      "D:\\datasets\\CT_images_segmented_lungs\\2d_masks\\ID_0058_Z_0150.tif\n",
      "D:\\datasets\\CT_images_segmented_lungs\\2d_masks\\ID_0059_Z_0150.tif\n",
      "D:\\datasets\\CT_images_segmented_lungs\\2d_masks\\ID_0060_Z_0147.tif\n",
      "D:\\datasets\\CT_images_segmented_lungs\\2d_masks\\ID_0061_Z_0064.tif\n",
      "D:\\datasets\\CT_images_segmented_lungs\\2d_masks\\ID_0062_Z_0125.tif\n",
      "D:\\datasets\\CT_images_segmented_lungs\\2d_masks\\ID_0063_Z_0067.tif\n",
      "D:\\datasets\\CT_images_segmented_lungs\\2d_masks\\ID_0064_Z_0069.tif\n"
     ]
    },
    {
     "name": "stderr",
     "output_type": "stream",
     "text": [
      "C:\\Users\\Z0044XNH\\AppData\\Local\\Continuum\\anaconda3\\envs\\tensorflow2\\lib\\site-packages\\skimage\\external\\tifffile\\tifffile.py:2618: RuntimeWarning: py_decodelzw encountered unexpected end of stream\n",
      "  strip = decompress(strip)\n"
     ]
    },
    {
     "name": "stdout",
     "output_type": "stream",
     "text": [
      "D:\\datasets\\CT_images_segmented_lungs\\2d_masks\\ID_0065_Z_0126.tif\n",
      "D:\\datasets\\CT_images_segmented_lungs\\2d_masks\\ID_0066_Z_0141.tif\n",
      "D:\\datasets\\CT_images_segmented_lungs\\2d_masks\\ID_0067_Z_0238.tif\n",
      "D:\\datasets\\CT_images_segmented_lungs\\2d_masks\\ID_0068_Z_0055.tif\n",
      "D:\\datasets\\CT_images_segmented_lungs\\2d_masks\\ID_0069_Z_0054.tif\n",
      "D:\\datasets\\CT_images_segmented_lungs\\2d_masks\\ID_0070_Z_0120.tif\n",
      "D:\\datasets\\CT_images_segmented_lungs\\2d_masks\\ID_0071_Z_0072.tif\n",
      "D:\\datasets\\CT_images_segmented_lungs\\2d_masks\\ID_0072_Z_0119.tif\n",
      "D:\\datasets\\CT_images_segmented_lungs\\2d_masks\\ID_0073_Z_0076.tif\n",
      "D:\\datasets\\CT_images_segmented_lungs\\2d_masks\\ID_0074_Z_0066.tif\n",
      "D:\\datasets\\CT_images_segmented_lungs\\2d_masks\\ID_0075_Z_0061.tif\n",
      "D:\\datasets\\CT_images_segmented_lungs\\2d_masks\\ID_0076_Z_0230.tif\n",
      "D:\\datasets\\CT_images_segmented_lungs\\2d_masks\\ID_0077_Z_0173.tif\n",
      "D:\\datasets\\CT_images_segmented_lungs\\2d_masks\\ID_0078_Z_0058.tif\n",
      "D:\\datasets\\CT_images_segmented_lungs\\2d_masks\\ID_0079_Z_0202.tif\n",
      "D:\\datasets\\CT_images_segmented_lungs\\2d_masks\\ID_0080_Z_0213.tif\n",
      "D:\\datasets\\CT_images_segmented_lungs\\2d_masks\\ID_0081_Z_0066.tif\n",
      "D:\\datasets\\CT_images_segmented_lungs\\2d_masks\\ID_0082_Z_0278.tif\n",
      "D:\\datasets\\CT_images_segmented_lungs\\2d_masks\\ID_0083_Z_0256.tif\n",
      "D:\\datasets\\CT_images_segmented_lungs\\2d_masks\\ID_0084_Z_0218.tif\n",
      "D:\\datasets\\CT_images_segmented_lungs\\2d_masks\\ID_0085_Z_0237.tif\n",
      "D:\\datasets\\CT_images_segmented_lungs\\2d_masks\\ID_0086_Z_0253.tif\n",
      "D:\\datasets\\CT_images_segmented_lungs\\2d_masks\\ID_0087_Z_0237.tif\n",
      "D:\\datasets\\CT_images_segmented_lungs\\2d_masks\\ID_0088_Z_0100.tif\n",
      "D:\\datasets\\CT_images_segmented_lungs\\2d_masks\\ID_0089_Z_0341.tif\n",
      "D:\\datasets\\CT_images_segmented_lungs\\2d_masks\\ID_0090_Z_0119.tif\n",
      "D:\\datasets\\CT_images_segmented_lungs\\2d_masks\\ID_0091_Z_0063.tif\n",
      "D:\\datasets\\CT_images_segmented_lungs\\2d_masks\\ID_0092_Z_0258.tif\n",
      "D:\\datasets\\CT_images_segmented_lungs\\2d_masks\\ID_0093_Z_0123.tif\n",
      "D:\\datasets\\CT_images_segmented_lungs\\2d_masks\\ID_0094_Z_0214.tif\n",
      "D:\\datasets\\CT_images_segmented_lungs\\2d_masks\\ID_0095_Z_0097.tif\n",
      "D:\\datasets\\CT_images_segmented_lungs\\2d_masks\\ID_0096_Z_0216.tif\n",
      "D:\\datasets\\CT_images_segmented_lungs\\2d_masks\\ID_0097_Z_0098.tif\n",
      "D:\\datasets\\CT_images_segmented_lungs\\2d_masks\\ID_0098_Z_0068.tif\n",
      "D:\\datasets\\CT_images_segmented_lungs\\2d_masks\\ID_0099_Z_0069.tif\n",
      "D:\\datasets\\CT_images_segmented_lungs\\2d_masks\\ID_0100_Z_0062.tif\n",
      "D:\\datasets\\CT_images_segmented_lungs\\2d_masks\\ID_0101_Z_0196.tif\n",
      "D:\\datasets\\CT_images_segmented_lungs\\2d_masks\\ID_0102_Z_0238.tif\n",
      "D:\\datasets\\CT_images_segmented_lungs\\2d_masks\\ID_0103_Z_0069.tif\n",
      "D:\\datasets\\CT_images_segmented_lungs\\2d_masks\\ID_0104_Z_0101.tif\n",
      "D:\\datasets\\CT_images_segmented_lungs\\2d_masks\\ID_0105_Z_0240.tif\n",
      "D:\\datasets\\CT_images_segmented_lungs\\2d_masks\\ID_0106_Z_0130.tif\n",
      "D:\\datasets\\CT_images_segmented_lungs\\2d_masks\\ID_0107_Z_0062.tif\n",
      "D:\\datasets\\CT_images_segmented_lungs\\2d_masks\\ID_0108_Z_0259.tif\n",
      "D:\\datasets\\CT_images_segmented_lungs\\2d_masks\\ID_0109_Z_0134.tif\n",
      "D:\\datasets\\CT_images_segmented_lungs\\2d_masks\\ID_0110_Z_0066.tif\n",
      "D:\\datasets\\CT_images_segmented_lungs\\2d_masks\\ID_0111_Z_0078.tif\n",
      "D:\\datasets\\CT_images_segmented_lungs\\2d_masks\\ID_0112_Z_0085.tif\n",
      "D:\\datasets\\CT_images_segmented_lungs\\2d_masks\\ID_0113_Z_0090.tif\n",
      "D:\\datasets\\CT_images_segmented_lungs\\2d_masks\\ID_0114_Z_0078.tif\n",
      "D:\\datasets\\CT_images_segmented_lungs\\2d_masks\\ID_0115_Z_0060.tif\n",
      "D:\\datasets\\CT_images_segmented_lungs\\2d_masks\\ID_0116_Z_0116.tif\n",
      "D:\\datasets\\CT_images_segmented_lungs\\2d_masks\\ID_0117_Z_0235.tif\n",
      "D:\\datasets\\CT_images_segmented_lungs\\2d_masks\\ID_0118_Z_0206.tif\n",
      "D:\\datasets\\CT_images_segmented_lungs\\2d_masks\\ID_0119_Z_0063.tif\n",
      "D:\\datasets\\CT_images_segmented_lungs\\2d_masks\\ID_0120_Z_0123.tif\n",
      "D:\\datasets\\CT_images_segmented_lungs\\2d_masks\\ID_0121_Z_0245.tif\n",
      "D:\\datasets\\CT_images_segmented_lungs\\2d_masks\\ID_0122_Z_0066.tif\n",
      "D:\\datasets\\CT_images_segmented_lungs\\2d_masks\\ID_0123_Z_0073.tif\n",
      "D:\\datasets\\CT_images_segmented_lungs\\2d_masks\\ID_0124_Z_0066.tif\n",
      "D:\\datasets\\CT_images_segmented_lungs\\2d_masks\\ID_0125_Z_0119.tif\n",
      "D:\\datasets\\CT_images_segmented_lungs\\2d_masks\\ID_0126_Z_0139.tif\n",
      "D:\\datasets\\CT_images_segmented_lungs\\2d_masks\\ID_0127_Z_0064.tif\n",
      "D:\\datasets\\CT_images_segmented_lungs\\2d_masks\\ID_0128_Z_0130.tif\n",
      "D:\\datasets\\CT_images_segmented_lungs\\2d_masks\\ID_0129_Z_0104.tif\n",
      "D:\\datasets\\CT_images_segmented_lungs\\2d_masks\\ID_0130_Z_0140.tif\n",
      "D:\\datasets\\CT_images_segmented_lungs\\2d_masks\\ID_0131_Z_0097.tif\n",
      "D:\\datasets\\CT_images_segmented_lungs\\2d_masks\\ID_0132_Z_0069.tif\n",
      "D:\\datasets\\CT_images_segmented_lungs\\2d_masks\\ID_0133_Z_0070.tif\n",
      "D:\\datasets\\CT_images_segmented_lungs\\2d_masks\\ID_0134_Z_0080.tif\n",
      "D:\\datasets\\CT_images_segmented_lungs\\2d_masks\\ID_0135_Z_0066.tif\n",
      "D:\\datasets\\CT_images_segmented_lungs\\2d_masks\\ID_0136_Z_0122.tif\n",
      "D:\\datasets\\CT_images_segmented_lungs\\2d_masks\\ID_0137_Z_0155.tif\n",
      "D:\\datasets\\CT_images_segmented_lungs\\2d_masks\\ID_0138_Z_0063.tif\n",
      "D:\\datasets\\CT_images_segmented_lungs\\2d_masks\\ID_0139_Z_0056.tif\n",
      "D:\\datasets\\CT_images_segmented_lungs\\2d_masks\\ID_0140_Z_0230.tif\n",
      "D:\\datasets\\CT_images_segmented_lungs\\2d_masks\\ID_0141_Z_0128.tif\n",
      "D:\\datasets\\CT_images_segmented_lungs\\2d_masks\\ID_0142_Z_0145.tif\n",
      "D:\\datasets\\CT_images_segmented_lungs\\2d_masks\\ID_0143_Z_0124.tif\n",
      "D:\\datasets\\CT_images_segmented_lungs\\2d_masks\\ID_0144_Z_0224.tif\n",
      "D:\\datasets\\CT_images_segmented_lungs\\2d_masks\\ID_0145_Z_0059.tif\n",
      "D:\\datasets\\CT_images_segmented_lungs\\2d_masks\\ID_0146_Z_0122.tif\n",
      "D:\\datasets\\CT_images_segmented_lungs\\2d_masks\\ID_0147_Z_0051.tif\n",
      "D:\\datasets\\CT_images_segmented_lungs\\2d_masks\\ID_0148_Z_0254.tif\n",
      "D:\\datasets\\CT_images_segmented_lungs\\2d_masks\\ID_0149_Z_0269.tif\n",
      "D:\\datasets\\CT_images_segmented_lungs\\2d_masks\\ID_0150_Z_0090.tif\n",
      "D:\\datasets\\CT_images_segmented_lungs\\2d_masks\\ID_0151_Z_0140.tif\n",
      "D:\\datasets\\CT_images_segmented_lungs\\2d_masks\\ID_0152_Z_0133.tif\n",
      "D:\\datasets\\CT_images_segmented_lungs\\2d_masks\\ID_0153_Z_0065.tif\n",
      "D:\\datasets\\CT_images_segmented_lungs\\2d_masks\\ID_0154_Z_0070.tif\n",
      "D:\\datasets\\CT_images_segmented_lungs\\2d_masks\\ID_0155_Z_0130.tif\n",
      "D:\\datasets\\CT_images_segmented_lungs\\2d_masks\\ID_0156_Z_0099.tif\n",
      "D:\\datasets\\CT_images_segmented_lungs\\2d_masks\\ID_0157_Z_0070.tif\n",
      "D:\\datasets\\CT_images_segmented_lungs\\2d_masks\\ID_0158_Z_0164.tif\n",
      "D:\\datasets\\CT_images_segmented_lungs\\2d_masks\\ID_0159_Z_0104.tif\n",
      "D:\\datasets\\CT_images_segmented_lungs\\2d_masks\\ID_0160_Z_0140.tif\n",
      "D:\\datasets\\CT_images_segmented_lungs\\2d_masks\\ID_0161_Z_0075.tif\n",
      "D:\\datasets\\CT_images_segmented_lungs\\2d_masks\\ID_0162_Z_0091.tif\n",
      "D:\\datasets\\CT_images_segmented_lungs\\2d_masks\\ID_0163_Z_0138.tif\n",
      "D:\\datasets\\CT_images_segmented_lungs\\2d_masks\\ID_0164_Z_0066.tif\n",
      "D:\\datasets\\CT_images_segmented_lungs\\2d_masks\\ID_0165_Z_0145.tif\n",
      "D:\\datasets\\CT_images_segmented_lungs\\2d_masks\\ID_0166_Z_0072.tif\n",
      "D:\\datasets\\CT_images_segmented_lungs\\2d_masks\\ID_0167_Z_0128.tif\n",
      "D:\\datasets\\CT_images_segmented_lungs\\2d_masks\\ID_0168_Z_0130.tif\n",
      "D:\\datasets\\CT_images_segmented_lungs\\2d_masks\\ID_0169_Z_0066.tif\n",
      "D:\\datasets\\CT_images_segmented_lungs\\2d_masks\\ID_0170_Z_0066.tif\n",
      "D:\\datasets\\CT_images_segmented_lungs\\2d_masks\\ID_0171_Z_0184.tif\n",
      "D:\\datasets\\CT_images_segmented_lungs\\2d_masks\\ID_0172_Z_0098.tif\n",
      "D:\\datasets\\CT_images_segmented_lungs\\2d_masks\\ID_0173_Z_0110.tif\n",
      "D:\\datasets\\CT_images_segmented_lungs\\2d_masks\\ID_0174_Z_0054.tif\n",
      "D:\\datasets\\CT_images_segmented_lungs\\2d_masks\\ID_0175_Z_0165.tif\n",
      "D:\\datasets\\CT_images_segmented_lungs\\2d_masks\\ID_0176_Z_0162.tif\n",
      "D:\\datasets\\CT_images_segmented_lungs\\2d_masks\\ID_0177_Z_0163.tif\n",
      "D:\\datasets\\CT_images_segmented_lungs\\2d_masks\\ID_0178_Z_0127.tif\n",
      "D:\\datasets\\CT_images_segmented_lungs\\2d_masks\\ID_0179_Z_0130.tif\n",
      "D:\\datasets\\CT_images_segmented_lungs\\2d_masks\\ID_0180_Z_0086.tif\n",
      "D:\\datasets\\CT_images_segmented_lungs\\2d_masks\\ID_0181_Z_0122.tif\n",
      "D:\\datasets\\CT_images_segmented_lungs\\2d_masks\\ID_0182_Z_0060.tif\n",
      "D:\\datasets\\CT_images_segmented_lungs\\2d_masks\\ID_0183_Z_0242.tif\n",
      "D:\\datasets\\CT_images_segmented_lungs\\2d_masks\\ID_0184_Z_0089.tif\n",
      "D:\\datasets\\CT_images_segmented_lungs\\2d_masks\\ID_0185_Z_0131.tif\n",
      "D:\\datasets\\CT_images_segmented_lungs\\2d_masks\\ID_0186_Z_0102.tif\n",
      "D:\\datasets\\CT_images_segmented_lungs\\2d_masks\\ID_0187_Z_0145.tif\n",
      "D:\\datasets\\CT_images_segmented_lungs\\2d_masks\\ID_0188_Z_0137.tif\n",
      "D:\\datasets\\CT_images_segmented_lungs\\2d_masks\\ID_0189_Z_0132.tif\n"
     ]
    },
    {
     "name": "stdout",
     "output_type": "stream",
     "text": [
      "D:\\datasets\\CT_images_segmented_lungs\\2d_masks\\ID_0190_Z_0070.tif\n",
      "D:\\datasets\\CT_images_segmented_lungs\\2d_masks\\ID_0191_Z_0140.tif\n",
      "D:\\datasets\\CT_images_segmented_lungs\\2d_masks\\ID_0192_Z_0064.tif\n",
      "D:\\datasets\\CT_images_segmented_lungs\\2d_masks\\ID_0193_Z_0060.tif\n",
      "D:\\datasets\\CT_images_segmented_lungs\\2d_masks\\ID_0194_Z_0120.tif\n",
      "D:\\datasets\\CT_images_segmented_lungs\\2d_masks\\ID_0195_Z_0062.tif\n",
      "D:\\datasets\\CT_images_segmented_lungs\\2d_masks\\ID_0196_Z_0259.tif\n",
      "D:\\datasets\\CT_images_segmented_lungs\\2d_masks\\ID_0197_Z_0123.tif\n",
      "D:\\datasets\\CT_images_segmented_lungs\\2d_masks\\ID_0198_Z_0120.tif\n",
      "D:\\datasets\\CT_images_segmented_lungs\\2d_masks\\ID_0199_Z_0119.tif\n",
      "D:\\datasets\\CT_images_segmented_lungs\\2d_masks\\ID_0200_Z_0125.tif\n",
      "D:\\datasets\\CT_images_segmented_lungs\\2d_masks\\ID_0201_Z_0241.tif\n",
      "D:\\datasets\\CT_images_segmented_lungs\\2d_masks\\ID_0202_Z_0098.tif\n",
      "D:\\datasets\\CT_images_segmented_lungs\\2d_masks\\ID_0203_Z_0079.tif\n",
      "D:\\datasets\\CT_images_segmented_lungs\\2d_masks\\ID_0204_Z_0066.tif\n",
      "D:\\datasets\\CT_images_segmented_lungs\\2d_masks\\ID_0205_Z_0066.tif\n",
      "D:\\datasets\\CT_images_segmented_lungs\\2d_masks\\ID_0206_Z_0062.tif\n",
      "D:\\datasets\\CT_images_segmented_lungs\\2d_masks\\ID_0207_Z_0160.tif\n",
      "D:\\datasets\\CT_images_segmented_lungs\\2d_masks\\ID_0208_Z_0063.tif\n",
      "D:\\datasets\\CT_images_segmented_lungs\\2d_masks\\ID_0209_Z_0267.tif\n",
      "D:\\datasets\\CT_images_segmented_lungs\\2d_masks\\ID_0210_Z_0140.tif\n",
      "D:\\datasets\\CT_images_segmented_lungs\\2d_masks\\ID_0211_Z_0140.tif\n",
      "D:\\datasets\\CT_images_segmented_lungs\\2d_masks\\ID_0212_Z_0064.tif\n",
      "D:\\datasets\\CT_images_segmented_lungs\\2d_masks\\ID_0213_Z_0088.tif\n",
      "D:\\datasets\\CT_images_segmented_lungs\\2d_masks\\ID_0214_Z_0120.tif\n",
      "D:\\datasets\\CT_images_segmented_lungs\\2d_masks\\ID_0215_Z_0238.tif\n",
      "D:\\datasets\\CT_images_segmented_lungs\\2d_masks\\ID_0216_Z_0057.tif\n",
      "D:\\datasets\\CT_images_segmented_lungs\\2d_masks\\ID_0217_Z_0078.tif\n",
      "D:\\datasets\\CT_images_segmented_lungs\\2d_masks\\ID_0218_Z_0231.tif\n",
      "D:\\datasets\\CT_images_segmented_lungs\\2d_masks\\ID_0219_Z_0222.tif\n",
      "D:\\datasets\\CT_images_segmented_lungs\\2d_masks\\ID_0220_Z_0066.tif\n",
      "D:\\datasets\\CT_images_segmented_lungs\\2d_masks\\ID_0221_Z_0081.tif\n",
      "D:\\datasets\\CT_images_segmented_lungs\\2d_masks\\ID_0222_Z_0122.tif\n",
      "D:\\datasets\\CT_images_segmented_lungs\\2d_masks\\ID_0223_Z_0214.tif\n",
      "D:\\datasets\\CT_images_segmented_lungs\\2d_masks\\ID_0224_Z_0210.tif\n",
      "D:\\datasets\\CT_images_segmented_lungs\\2d_masks\\ID_0225_Z_0069.tif\n",
      "D:\\datasets\\CT_images_segmented_lungs\\2d_masks\\ID_0226_Z_0066.tif\n",
      "D:\\datasets\\CT_images_segmented_lungs\\2d_masks\\ID_0227_Z_0181.tif\n",
      "D:\\datasets\\CT_images_segmented_lungs\\2d_masks\\ID_0228_Z_0097.tif\n",
      "D:\\datasets\\CT_images_segmented_lungs\\2d_masks\\ID_0229_Z_0060.tif\n",
      "D:\\datasets\\CT_images_segmented_lungs\\2d_masks\\ID_0230_Z_0242.tif\n",
      "D:\\datasets\\CT_images_segmented_lungs\\2d_masks\\ID_0231_Z_0140.tif\n",
      "D:\\datasets\\CT_images_segmented_lungs\\2d_masks\\ID_0232_Z_0063.tif\n",
      "D:\\datasets\\CT_images_segmented_lungs\\2d_masks\\ID_0233_Z_0064.tif\n",
      "D:\\datasets\\CT_images_segmented_lungs\\2d_masks\\ID_0234_Z_0096.tif\n",
      "D:\\datasets\\CT_images_segmented_lungs\\2d_masks\\ID_0235_Z_0058.tif\n",
      "D:\\datasets\\CT_images_segmented_lungs\\2d_masks\\ID_0236_Z_0122.tif\n",
      "D:\\datasets\\CT_images_segmented_lungs\\2d_masks\\ID_0237_Z_0061.tif\n",
      "D:\\datasets\\CT_images_segmented_lungs\\2d_masks\\ID_0238_Z_0253.tif\n",
      "D:\\datasets\\CT_images_segmented_lungs\\2d_masks\\ID_0239_Z_0365.tif\n",
      "D:\\datasets\\CT_images_segmented_lungs\\2d_masks\\ID_0240_Z_0066.tif\n",
      "D:\\datasets\\CT_images_segmented_lungs\\2d_masks\\ID_0241_Z_0124.tif\n",
      "D:\\datasets\\CT_images_segmented_lungs\\2d_masks\\ID_0242_Z_0123.tif\n",
      "D:\\datasets\\CT_images_segmented_lungs\\2d_masks\\ID_0243_Z_0056.tif\n",
      "D:\\datasets\\CT_images_segmented_lungs\\2d_masks\\ID_0244_Z_0184.tif\n",
      "D:\\datasets\\CT_images_segmented_lungs\\2d_masks\\ID_0245_Z_0318.tif\n",
      "D:\\datasets\\CT_images_segmented_lungs\\2d_masks\\ID_0246_Z_0228.tif\n",
      "D:\\datasets\\CT_images_segmented_lungs\\2d_masks\\ID_0247_Z_0070.tif\n",
      "D:\\datasets\\CT_images_segmented_lungs\\2d_masks\\ID_0248_Z_0062.tif\n",
      "D:\\datasets\\CT_images_segmented_lungs\\2d_masks\\ID_0249_Z_0070.tif\n",
      "D:\\datasets\\CT_images_segmented_lungs\\2d_masks\\ID_0250_Z_0070.tif\n",
      "D:\\datasets\\CT_images_segmented_lungs\\2d_masks\\ID_0251_Z_0125.tif\n",
      "D:\\datasets\\CT_images_segmented_lungs\\2d_masks\\ID_0252_Z_0064.tif\n",
      "D:\\datasets\\CT_images_segmented_lungs\\2d_masks\\ID_0253_Z_0238.tif\n",
      "D:\\datasets\\CT_images_segmented_lungs\\2d_masks\\ID_0254_Z_0075.tif\n",
      "D:\\datasets\\CT_images_segmented_lungs\\2d_masks\\ID_0255_Z_0061.tif\n",
      "D:\\datasets\\CT_images_segmented_lungs\\2d_masks\\ID_0256_Z_0062.tif\n",
      "D:\\datasets\\CT_images_segmented_lungs\\2d_masks\\ID_0257_Z_0071.tif\n",
      "D:\\datasets\\CT_images_segmented_lungs\\2d_masks\\ID_0258_Z_0072.tif\n",
      "D:\\datasets\\CT_images_segmented_lungs\\2d_masks\\ID_0259_Z_0073.tif\n",
      "D:\\datasets\\CT_images_segmented_lungs\\2d_masks\\ID_0260_Z_0148.tif\n",
      "D:\\datasets\\CT_images_segmented_lungs\\2d_masks\\ID_0261_Z_0238.tif\n",
      "D:\\datasets\\CT_images_segmented_lungs\\2d_masks\\ID_0262_Z_0064.tif\n",
      "D:\\datasets\\CT_images_segmented_lungs\\2d_masks\\ID_0263_Z_0093.tif\n",
      "D:\\datasets\\CT_images_segmented_lungs\\2d_masks\\ID_0264_Z_0137.tif\n",
      "D:\\datasets\\CT_images_segmented_lungs\\2d_masks\\ID_0265_Z_0108.tif\n",
      "D:\\datasets\\CT_images_segmented_lungs\\2d_masks\\ID_0266_Z_0072.tif\n"
     ]
    }
   ],
   "source": [
    "# Import the useful modules from imantics library\n",
    "from imantics import Polygons, Mask, Image, Category\n",
    "\n",
    "for i in range(len(all_image_files)):\n",
    "    \n",
    "    # The intial few lines are same as before as we are calculating the polygons in the mask\n",
    "    img_path, mask_path = all_image_files[i], all_mask_files[i]\n",
    "    \n",
    "    image = Image.from_path(img_path)\n",
    "    mask = imread(mask_path)\n",
    "    print(mask_path)\n",
    "    \n",
    "    if len(mask.shape) > 2:        mask_array = Mask(mask[:,:,0])\n",
    "    else:                          mask_array = Mask(mask)\n",
    "    \n",
    "        \n",
    "    polygons = mask_array.polygons()\n",
    "\n",
    "    # Given that right lung should be on the right side of the image,\n",
    "    # the x-coordinate for that polygon should be greater than half the size of image in x-direction\n",
    "    # IMG size is 512 by 512\n",
    "\n",
    "    # So, here I loop over each polygon and for each polygon, \n",
    "    # I store the count of x-coordinate values greater than 256 in a dictionary,\n",
    "    # where the key is in the following format (for future use):\n",
    "    #         <index in polygons array>_<length/number of the polygons.points>\n",
    "\n",
    "    \n",
    "    x_counter = {}                                       # Dictionary to store the key:count pair\n",
    "    for j,p in enumerate(polygons.points):               # Loop over each polygon\n",
    "        count = 0                                        # Intialize counter to zero\n",
    "        for a in p:\n",
    "            if a[0] > 256:     count += 1     # Check the x-coordinate [0-index] for each point in the polygon\n",
    "        x_counter[str(j)+'_'+str(len(p))] = count        # Store the count along with additional info in the key\n",
    "    \n",
    "    # Let's start labeling\n",
    "    # For unidentified class, I had to iterate through all images \n",
    "    # and figure out the maximum length of polygons.points. That's what will allow us to label this class.\n",
    "    \n",
    "    keys_d = []                                          # To store the keys which are being labeled\n",
    "    for k, v in x_counter.items():                          # Loop over key:count pair on the dictionary created in the last step\n",
    "        p_index, p_len = k.split('_')                    # Split the key and save the index and length of the polygon\n",
    "        if int(p_len) < 120:                             # For the LungCT dataset, the maximum length was around 115, using 120\n",
    "            # For any polygon with length smaller than 120 we add the label unidentified\n",
    "            image.add(Polygons(polygons.points[int(p_index)]), category=Category(\"unidentified\"))\n",
    "\n",
    "            keys_d.append(k)                             # Store the key\n",
    "\n",
    "    # For Right Lung, we know that the x-coordinate of the points in the polygons should lie in the right side of the mask,\n",
    "    # We have already calculated the count for each polygon, so the one with maximum value sould correspong to right_lung.\n",
    "    \n",
    "    max_key = max(x_counter, key = x_counter.get)        # Get the key with the maximum value\n",
    "    p_index = int(max_key.split('_')[0])                 # Split the key and get the index\n",
    "    # Add the polygon at that index with the label right_lung\n",
    "    image.add(Polygons(polygons.points[p_index]), category=Category(\"right_lung\"))\n",
    "\n",
    "    keys_d.append(max_key)                               # Store the key\n",
    "\n",
    "    # We could apply the similar logic to identify the polygon for the left lung,\n",
    "    # but as I only have three classes and I should have one and only one polygon for left lung\n",
    "    # so I can go ahead and find the only key which is still unlabeled and use that directly.\n",
    "    \n",
    "    # Find the key which is not yet label and split it to get the index\n",
    "    p_index = [int(k.split('_')[0]) for k in x_counter.keys() if k not in keys_d]\n",
    "    \n",
    "    if len(p_index) == 1:                                # should be one and only one left lung\n",
    "                                                         # handles the case for one mask with no left lung mask\n",
    "        # Add the polygon at that index with the label left_lung\n",
    "        image.add(Polygons(polygons.points[p_index[0]]), category=Category(\"left_lung\"))\n",
    "\n",
    "    # Go ahead and save the image in coco style with a same image name but with .json extension\n",
    "    image.save(img_path[:-4]+'.json', style='coco')"
   ]
  },
  {
   "cell_type": "markdown",
   "metadata": {},
   "source": [
    "Here I have not abstracted the repetitive actions as this was just an experiment and learning notebook.\n",
    "\n",
    "Modify this notebook as necessary for yourselves."
   ]
  },
  {
   "cell_type": "code",
   "execution_count": null,
   "metadata": {},
   "outputs": [],
   "source": []
  }
 ],
 "metadata": {
  "kernelspec": {
   "display_name": "tensorflow2",
   "language": "python",
   "name": "tensorflow2"
  },
  "language_info": {
   "codemirror_mode": {
    "name": "ipython",
    "version": 3
   },
   "file_extension": ".py",
   "mimetype": "text/x-python",
   "name": "python",
   "nbconvert_exporter": "python",
   "pygments_lexer": "ipython3",
   "version": "3.6.10"
  },
  "toc": {
   "base_numbering": 1,
   "nav_menu": {},
   "number_sections": true,
   "sideBar": true,
   "skip_h1_title": false,
   "title_cell": "Table of Contents",
   "title_sidebar": "Contents",
   "toc_cell": false,
   "toc_position": {},
   "toc_section_display": true,
   "toc_window_display": false
  },
  "varInspector": {
   "cols": {
    "lenName": 16,
    "lenType": 16,
    "lenVar": 40
   },
   "kernels_config": {
    "python": {
     "delete_cmd_postfix": "",
     "delete_cmd_prefix": "del ",
     "library": "var_list.py",
     "varRefreshCmd": "print(var_dic_list())"
    },
    "r": {
     "delete_cmd_postfix": ") ",
     "delete_cmd_prefix": "rm(",
     "library": "var_list.r",
     "varRefreshCmd": "cat(var_dic_list()) "
    }
   },
   "types_to_exclude": [
    "module",
    "function",
    "builtin_function_or_method",
    "instance",
    "_Feature"
   ],
   "window_display": false
  }
 },
 "nbformat": 4,
 "nbformat_minor": 2
}
